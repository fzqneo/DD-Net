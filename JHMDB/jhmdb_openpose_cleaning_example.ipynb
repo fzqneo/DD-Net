{
 "cells": [
  {
   "cell_type": "code",
   "execution_count": 1,
   "metadata": {},
   "outputs": [
    {
     "name": "stderr",
     "output_type": "stream",
     "text": [
      "Using TensorFlow backend.\n"
     ]
    }
   ],
   "source": [
    "import collections\n",
    "import matplotlib.pyplot as plt\n",
    "import numpy as np\n",
    "import os\n",
    "import pickle\n",
    "import random\n",
    "import sys\n",
    "from tqdm import tqdm\n",
    "\n",
    "import tensorflow as tf\n",
    "\n",
    "# <project_root>/ddnet/ddnet.py\n",
    "sys.path.insert(0, os.path.join(os.path.abspath(''), '..', 'ddnet'))\n",
    "import ddnet"
   ]
  },
  {
   "cell_type": "markdown",
   "metadata": {},
   "source": [
    "# Initialize the setting"
   ]
  },
  {
   "cell_type": "code",
   "execution_count": 2,
   "metadata": {},
   "outputs": [],
   "source": [
    "random.seed(123)\n",
    "\n",
    "# directory that contains pickle files\n",
    "train_data_dir = os.path.join(os.path.abspath(''), '..', 'data', 'openpose_zeros_25')\n",
    "test_data_dir = os.path.join(os.path.abspath(''), '..', 'data', 'openpose_mixing_hand_25')"
   ]
  },
  {
   "cell_type": "markdown",
   "metadata": {},
   "source": [
    "# Helper functions"
   ]
  },
  {
   "cell_type": "code",
   "execution_count": 3,
   "metadata": {},
   "outputs": [],
   "source": [
    "def data_generator(T, C, le, exclude_labels=[]):\n",
    "    \"\"\"\n",
    "    Generate X (list of arrays) and Y (array) from a dict \n",
    "    \"\"\"\n",
    "    poses = []\n",
    "    labels = []\n",
    "    for p, L in zip(T['pose'], T['label']):\n",
    "        if L not in exclude_labels:\n",
    "            poses.append(p)\n",
    "            labels.append(L)\n",
    "    \n",
    "    X = poses # list of arrays\n",
    "    Y = np.zeros(shape=(len(labels), C.clc_num)) # 2D array one-hot encoding of labels\n",
    "    Y[range(Y.shape[0]), le.transform(labels)] = 1\n",
    "    return X, Y"
   ]
  },
  {
   "cell_type": "code",
   "execution_count": 4,
   "metadata": {},
   "outputs": [],
   "source": [
    "# helper functions for plotting\n",
    "# history is a history object from keras\n",
    "def plot_accuracy(history):\n",
    "    # Plot training & validation accuracy values\n",
    "    plt.plot(history.history['accuracy'])\n",
    "    plt.plot(history.history['val_accuracy'])\n",
    "    plt.title('Model accuracy')\n",
    "    plt.ylabel('Accuracy')\n",
    "    plt.xlabel('Epoch')\n",
    "    plt.legend(['Train', 'Test'], loc='upper left')\n",
    "    plt.show()\n",
    "    \n",
    "def plot_loss(history):\n",
    "    # Plot training & validation loss values\n",
    "    plt.plot(history.history['loss'])\n",
    "    plt.plot(history.history['val_loss'])\n",
    "    plt.title('Model Loss')\n",
    "    plt.ylabel('Loss')\n",
    "    plt.xlabel('Epoch')\n",
    "    plt.legend(['Train', 'Test'], loc='upper left')\n",
    "    plt.show()  "
   ]
  },
  {
   "cell_type": "markdown",
   "metadata": {},
   "source": [
    "## Load and Preprocess Data"
   ]
  },
  {
   "cell_type": "code",
   "execution_count": 5,
   "metadata": {},
   "outputs": [
    {
     "name": "stdout",
     "output_type": "stream",
     "text": [
      "Classses:  21 ['brush_hair' 'catch' 'clap' 'climb_stairs' 'golf' 'jump' 'kick_ball'\n",
      " 'pick' 'pour' 'pullup' 'push' 'run' 'shoot_ball' 'shoot_bow' 'shoot_gun'\n",
      " 'sit' 'stand' 'swing_baseball' 'throw' 'walk' 'wave']\n"
     ]
    }
   ],
   "source": [
    "Train = pickle.load(open(os.path.join(train_data_dir, \"GT_train_1.pkl\"), \"rb\"))\n",
    "Test = pickle.load(open(os.path.join(test_data_dir, \"GT_test_1.pkl\"), \"rb\"))\n",
    "\n",
    "from sklearn import preprocessing\n",
    "le = preprocessing.LabelEncoder()\n",
    "le.fit(Train['label'])\n",
    "print(\"Classses: \", len(le.classes_), le.classes_)"
   ]
  },
  {
   "cell_type": "code",
   "execution_count": 6,
   "metadata": {},
   "outputs": [
    {
     "name": "stdout",
     "output_type": "stream",
     "text": [
      "497 (40, 25, 2) (497, 21)\n",
      "195 (40, 25, 2) (195, 21)\n"
     ]
    }
   ],
   "source": [
    "C = ddnet.DDNetConfig(frame_length=32, num_joints=15, joint_dim=2, num_classes=21, num_filters=32)\n",
    "\n",
    "X, Y = data_generator(Train,C,le)\n",
    "X_test,Y_test = data_generator(Test,C,le)\n",
    "\n",
    "print(len(X), X[0].shape, Y.shape)\n",
    "print(len(X_test), X_test[0].shape, Y_test.shape)"
   ]
  },
  {
   "cell_type": "markdown",
   "metadata": {},
   "source": [
    "### Cleaning and transforming OpenPose outputs"
   ]
  },
  {
   "cell_type": "code",
   "execution_count": 8,
   "metadata": {},
   "outputs": [],
   "source": [
    "cleaner = ddnet.OpenPoseDataCleaner(copy=True, filter_joint_idx=ddnet.OP_HAND_PICKED_GOOD_JOINTS)"
   ]
  },
  {
   "cell_type": "code",
   "execution_count": 9,
   "metadata": {},
   "outputs": [
    {
     "name": "stdout",
     "output_type": "stream",
     "text": [
      "414\n",
      "195\n"
     ]
    }
   ],
   "source": [
    "# filter points that have too many nans\n",
    "def filter_many_nan_points(X, Y, nan_thres=0.5):\n",
    "    \"\"\"\n",
    "    Input use 0 to indicate nan\n",
    "    \"\"\"\n",
    "    X_filtered = []\n",
    "    Y_filtered = []\n",
    "    for p, y in zip(X, Y):\n",
    "        if cleaner.count_nan(cleaner.make_nan(p)) / p.size <= nan_thres:\n",
    "            X_filtered.append(p)\n",
    "            Y_filtered.append(y)\n",
    "    Y_filtered = np.array(Y_filtered)\n",
    "    assert len(X_filtered) == Y_filtered.shape[0]\n",
    "    return X_filtered, Y_filtered\n",
    "\n",
    "X_filtered, Y_filtered = filter_many_nan_points(X, Y)\n",
    "print(len(X_filtered))\n",
    "\n",
    "# test data\n",
    "X_test_filtered, Y_test_filtered = filter_many_nan_points(X_test, Y_test)\n",
    "print(len(X_test_filtered))"
   ]
  },
  {
   "cell_type": "code",
   "execution_count": 10,
   "metadata": {},
   "outputs": [
    {
     "name": "stdout",
     "output_type": "stream",
     "text": [
      "2070 (40, 15, 2) (2070, 21)\n",
      "195 (40, 15, 2) (195, 21)\n"
     ]
    }
   ],
   "source": [
    "# cleaning and data augmentation\n",
    "X_clean, Y_clean = cleaner.augment_XY(X_filtered, Y_filtered, factor=5)\n",
    "X_test_clean, Y_test_clean = cleaner.augment_XY(X_test_filtered, Y_test_filtered, factor=1)\n",
    "\n",
    "print(len(X_clean), X_clean[0].shape, Y_clean.shape)\n",
    "print(len(X_test_clean), X_test_clean[0].shape, Y_test_clean.shape)"
   ]
  },
  {
   "cell_type": "code",
   "execution_count": 11,
   "metadata": {},
   "outputs": [],
   "source": [
    "# commit changes\n",
    "X_input, Y_input = X_clean, Y_clean\n",
    "X_test_input, Y_test_input = X_test_clean, Y_test_clean"
   ]
  },
  {
   "cell_type": "markdown",
   "metadata": {},
   "source": [
    "### DDNet's preprocess and config"
   ]
  },
  {
   "cell_type": "code",
   "execution_count": 12,
   "metadata": {},
   "outputs": [],
   "source": [
    "# redefine config with new # of joints\n",
    "C = ddnet.DDNetConfig(frame_length=32, num_joints=X_input[0].shape[1], joint_dim=2, num_classes=21, num_filters=64)\n",
    "\n",
    "X_0, X_1 = ddnet.preprocess_batch(X_input, C)\n",
    "X_test_0, X_test_1 = ddnet.preprocess_batch(X_test_input, C)"
   ]
  },
  {
   "cell_type": "markdown",
   "metadata": {},
   "source": [
    "# Train, Test "
   ]
  },
  {
   "cell_type": "code",
   "execution_count": 13,
   "metadata": {},
   "outputs": [],
   "source": [
    "# rescale sample weight to balance classes\n",
    "def get_sample_weight(Y):\n",
    "    cls_ids = np.argmax(Y, axis=1)\n",
    "    assert cls_ids.shape[0] == Y.shape[0]\n",
    "    cls_histo = np.array([np.count_nonzero(cls_ids==i) for i in range(Y.shape[1])])\n",
    "    cls_weight = np.max(cls_histo) / cls_histo # balanced\n",
    "    print(cls_histo)\n",
    "    print(cls_weight)\n",
    "    sample_weight = cls_weight[cls_ids]\n",
    "    assert sample_weight.shape[0] == Y.shape[0]\n",
    "    return sample_weight"
   ]
  },
  {
   "cell_type": "code",
   "execution_count": 14,
   "metadata": {},
   "outputs": [
    {
     "name": "stdout",
     "output_type": "stream",
     "text": [
      "[ 40 145  80 125 150  65  55  95 180 180 120  80  45 140  70  60  45 125\n",
      "  90 105  75]\n",
      "[4.5        1.24137931 2.25       1.44       1.2        2.76923077\n",
      " 3.27272727 1.89473684 1.         1.         1.5        2.25\n",
      " 4.         1.28571429 2.57142857 3.         4.         1.44\n",
      " 2.         1.71428571 2.4       ]\n",
      "(2070,)\n",
      "[1.5 1.5 1.5 1.5 1.5 1.5 1.5 1.5 1.5 1.5]\n"
     ]
    }
   ],
   "source": [
    "sample_weight = get_sample_weight(Y_input)\n",
    "print(sample_weight.shape)\n",
    "print(sample_weight[:10])"
   ]
  },
  {
   "cell_type": "code",
   "execution_count": 15,
   "metadata": {},
   "outputs": [
    {
     "name": "stdout",
     "output_type": "stream",
     "text": [
      "WARNING:tensorflow:From /home/zf/video-analytics/DD-Net/JHMDB/../ddnet/ddnet.py:342: The name tf.image.resize_nearest_neighbor is deprecated. Please use tf.compat.v1.image.resize_nearest_neighbor instead.\n",
      "\n",
      "WARNING:tensorflow:From /home/zf/miniconda3/envs/ddnet/lib/python3.6/site-packages/tensorflow_core/python/ops/resource_variable_ops.py:1630: calling BaseResourceVariable.__init__ (from tensorflow.python.ops.resource_variable_ops) with constraint is deprecated and will be removed in a future version.\n",
      "Instructions for updating:\n",
      "If using Keras pass *_constraint arguments to layers.\n",
      "WARNING:tensorflow:From /home/zf/miniconda3/envs/ddnet/lib/python3.6/site-packages/keras/backend/tensorflow_backend.py:4070: The name tf.nn.max_pool is deprecated. Please use tf.nn.max_pool2d instead.\n",
      "\n"
     ]
    }
   ],
   "source": [
    "DD_Net = ddnet.create_DDNet(C)\n",
    "# DD_Net.summary()"
   ]
  },
  {
   "cell_type": "markdown",
   "metadata": {},
   "source": [
    "### Train and plot loss/accuracy"
   ]
  },
  {
   "cell_type": "code",
   "execution_count": null,
   "metadata": {
    "scrolled": true
   },
   "outputs": [],
   "source": [
    "import keras\n",
    "from keras import backend as K\n",
    "from keras.optimizers import *\n",
    "\n",
    "config = tf.ConfigProto()\n",
    "config.gpu_options.allow_growth = True  # dynamically grow the memory used on the GPU\n",
    "config.log_device_placement = True  # to log device placement (on which device the operation ran)\n",
    "\n",
    "sess = tf.Session(config=config)\n",
    "K.set_session(sess)\n",
    "\n",
    "lr = 1e-3\n",
    "DD_Net.compile(loss=\"categorical_crossentropy\",optimizer=adam(lr),metrics=['accuracy'])\n",
    "lrScheduler = keras.callbacks.ReduceLROnPlateau(monitor='loss', factor=0.5, patience=5, cooldown=5, min_lr=1e-5)\n",
    "\n",
    "history1 = DD_Net.fit([X_0,X_1],Y_input,\n",
    "                    batch_size=len(Y_input),\n",
    "                    epochs=1000,\n",
    "                    verbose=True,\n",
    "                    shuffle=True,\n",
    "                    callbacks=[lrScheduler],\n",
    "                    validation_data=([X_test_0,X_test_1],Y_test_input),\n",
    "                    sample_weight=sample_weight\n",
    "                    )\n",
    "\n",
    "lr = 1e-4\n",
    "DD_Net.compile(loss=\"categorical_crossentropy\",optimizer=adam(lr),metrics=['accuracy'])\n",
    "lrScheduler = keras.callbacks.ReduceLROnPlateau(monitor='loss', factor=0.5, patience=5, cooldown=5, min_lr=5e-6)\n",
    "history2 = DD_Net.fit([X_0,X_1],Y_input,\n",
    "                    batch_size=len(Y_input),\n",
    "                    epochs=400,\n",
    "                    verbose=True,\n",
    "                    shuffle=True,\n",
    "                    callbacks=[lrScheduler],\n",
    "                    validation_data=([X_test_0,X_test_1],Y_test_input),\n",
    "                    sample_weight=sample_weight\n",
    "                    )\n"
   ]
  },
  {
   "cell_type": "code",
   "execution_count": 17,
   "metadata": {},
   "outputs": [
    {
     "data": {
      "image/png": "[encoded data removed]",
      "text/plain": [
       "<Figure size 432x288 with 1 Axes>"
      ]
     },
     "metadata": {
      "needs_background": "light"
     },
     "output_type": "display_data"
    },
    {
     "data": {
      "image/png": "[encoded data removed]",
      "text/plain": [
       "<Figure size 432x288 with 1 Axes>"
      ]
     },
     "metadata": {
      "needs_background": "light"
     },
     "output_type": "display_data"
    },
    {
     "data": {
      "image/png": "[encoded data removed]",
      "text/plain": [
       "<Figure size 432x288 with 1 Axes>"
      ]
     },
     "metadata": {
      "needs_background": "light"
     },
     "output_type": "display_data"
    },
    {
     "data": {
      "image/png": "[encoded data removed]",
      "text/plain": [
       "<Figure size 432x288 with 1 Axes>"
      ]
     },
     "metadata": {
      "needs_background": "light"
     },
     "output_type": "display_data"
    }
   ],
   "source": [
    "%matplotlib inline\n",
    "# the first 600 epochs\n",
    "plot_accuracy(history1)\n",
    "plot_loss(history1)\n",
    "# the next 500 epochs\n",
    "plot_accuracy(history2)\n",
    "plot_loss(history2)"
   ]
  },
  {
   "cell_type": "markdown",
   "metadata": {},
   "source": [
    "### Plot confusion matrix"
   ]
  },
  {
   "cell_type": "code",
   "execution_count": 18,
   "metadata": {},
   "outputs": [],
   "source": [
    "Y_test_pred = DD_Net.predict([X_test_0, X_test_1])"
   ]
  },
  {
   "cell_type": "code",
   "execution_count": 19,
   "metadata": {},
   "outputs": [
    {
     "name": "stdout",
     "output_type": "stream",
     "text": [
      "[[ 0  0  2  0  0  0  0  0  0  3  0  0  0  0  0  0  0  0  0  1  0]\n",
      " [ 0  2  0  0  0  0  0  0  0  0  0  0  1  0  0  0  0  0  0  0  0]\n",
      " [ 0  0 10  0  0  0  0  0  0  0  0  0  0  0  0  0  0  0  0  0  0]\n",
      " [ 0  0  0  4  0  0  0  0  0  1  1  0  1  0  0  0  0  0  2  2  0]\n",
      " [ 0  0  0  0 11  0  0  0  0  0  0  0  0  0  0  0  0  0  1  0  0]\n",
      " [ 0  0  0  0  0  1  0  1  0  1  0  1  1  0  0  0  0  0  0  0  0]\n",
      " [ 0  1  0  1  1  0  2  0  0  0  0  0  0  0  0  0  0  0  0  0  0]\n",
      " [ 0  0  0  0  0  0  0  8  0  0  0  0  0  0  0  1  0  0  0  0  0]\n",
      " [ 2  0  4  0  0  0  0  0  0  1  0  0  0  0  0  0  0  0  0  2  6]\n",
      " [ 0  0  0  0  0  0  0  0  0 13  3  0  0  0  0  0  0  0  0  0  0]\n",
      " [ 0  0  0  0  0  0  0  2  0  1  5  0  0  1  0  0  0  1  0  1  0]\n",
      " [ 0  0  0  2  0  0  0  0  0  0  0  1  0  0  0  0  0  0  0  3  0]\n",
      " [ 0  1  0  0  0  0  0  0  0  1  0  0  2  0  1  0  0  0  0  0  0]\n",
      " [ 0  0  0  0  0  0  0  0  0  0  0  0  0 14  0  0  0  0  0  0  0]\n",
      " [ 0  0  0  0  0  0  0  0  0  0  5  0  0  0  8  1  0  0  0  0  0]\n",
      " [ 0  0  0  0  0  0  0  0  0  0  0  1  0  0  0  3  1  0  0  0  0]\n",
      " [ 0  0  0  0  0  0  0  1  0  0  0  1  0  0  0  0  2  0  0  0  2]\n",
      " [ 0 10  0  0  0  0  0  1  0  1  0  0  0  0  0  0  0  3  0  0  0]\n",
      " [ 0  0  0  0  0  0  0  1  0  0  1  0  0  4  0  1  0  0  2  1  0]\n",
      " [ 0  0  0  2  0  0  0  0  0  0  0  0  0  0  0  0  0  0  0  5  0]\n",
      " [ 1  1  0  0  0  0  0  0  0  6  0  0  0  0  0  0  0  0  0  1  1]]\n"
     ]
    },
    {
     "data": {
      "text/plain": [
       "<sklearn.metrics._plot.confusion_matrix.ConfusionMatrixDisplay at 0x7fc2dfae4be0>"
      ]
     },
     "execution_count": 19,
     "metadata": {},
     "output_type": "execute_result"
    },
    {
     "data": {
      "image/png": "[encoded data removed]",
      "text/plain": [
       "<Figure size 720x720 with 2 Axes>"
      ]
     },
     "metadata": {
      "needs_background": "light"
     },
     "output_type": "display_data"
    }
   ],
   "source": [
    "Y_test_pred_cls = np.argmax(Y_test_pred, axis=1)\n",
    "Y_test_cls = np.argmax(Y_test_input, axis=1)\n",
    "Y_test_cls[:10], Y_test_pred_cls[:10]\n",
    "\n",
    "from sklearn.metrics import confusion_matrix, ConfusionMatrixDisplay\n",
    "normalize= None # 'true'\n",
    "cm = confusion_matrix(Y_test_cls, Y_test_pred_cls, normalize=normalize)\n",
    "print(cm)\n",
    "# print(np.sum(np.diagonal(cm)) / np.sum(cm)) # accuracy\n",
    "\n",
    "disp = ConfusionMatrixDisplay(\n",
    "    confusion_matrix=cm,\n",
    "    display_labels=le.classes_)\n",
    "\n",
    "fig, ax = plt.subplots(figsize=(10,10))\n",
    "disp.plot(xticks_rotation=90, ax=ax)"
   ]
  },
  {
   "cell_type": "markdown",
   "metadata": {},
   "source": [
    "### Save model to disk"
   ]
  },
  {
   "cell_type": "code",
   "execution_count": null,
   "metadata": {},
   "outputs": [],
   "source": [
    "model_path = 'jhmdb_openpose_model_mixed_11.h5'\n",
    "ddnet.save_DDNet(DD_Net, model_path)"
   ]
  },
  {
   "cell_type": "markdown",
   "metadata": {},
   "source": [
    "### Refit using Training + Test Data"
   ]
  },
  {
   "cell_type": "code",
   "execution_count": null,
   "metadata": {},
   "outputs": [],
   "source": [
    "print(Y_input.shape, Y_test_input.shape)\n",
    "X_refit = X_input + X_test_input\n",
    "Y_refit = np.concatenate([Y_input, Y_test_input])\n",
    "assert len(X_refit) == Y_refit.shape[0]\n",
    "print(len(X_refit))\n",
    "refit_sample_weight = get_sample_weight(Y_refit)"
   ]
  },
  {
   "cell_type": "code",
   "execution_count": null,
   "metadata": {},
   "outputs": [],
   "source": [
    "X_refit_0, X_refit_1 = ddnet.preprocess_batch(X_refit, C)"
   ]
  },
  {
   "cell_type": "code",
   "execution_count": null,
   "metadata": {},
   "outputs": [],
   "source": [
    "# create a new net\n",
    "refit_net = ddnet.create_DDNet(C)\n",
    "\n",
    "lr = 1e-3\n",
    "refit_net.compile(loss=\"categorical_crossentropy\",optimizer=adam(lr),metrics=['accuracy'])\n",
    "lrScheduler = keras.callbacks.ReduceLROnPlateau(monitor='loss', factor=0.5, patience=5, cooldown=5, min_lr=1e-5)\n",
    "\n",
    "history1 = refit_net.fit([X_refit_0,X_refit_1],Y_refit,\n",
    "                    batch_size=len(Y_refit),\n",
    "                    epochs=800,\n",
    "                    verbose=True,\n",
    "                    shuffle=True,\n",
    "                    callbacks=[lrScheduler],\n",
    "                    sample_weight=refit_sample_weight\n",
    "                    )\n",
    "\n",
    "lr = 1e-4\n",
    "refit_net.compile(loss=\"categorical_crossentropy\",optimizer=adam(lr),metrics=['accuracy'])\n",
    "lrScheduler = keras.callbacks.ReduceLROnPlateau(monitor='loss', factor=0.5, patience=5, cooldown=5, min_lr=5e-6)\n",
    "\n",
    "history2 = refit_net.fit([X_refit_0,X_refit_1],Y_refit,\n",
    "                    batch_size=len(Y_refit),\n",
    "                    epochs=500,\n",
    "                    verbose=True,\n",
    "                    shuffle=True,\n",
    "                    callbacks=[lrScheduler],\n",
    "                    sample_weight=refit_sample_weight\n",
    "                    )\n"
   ]
  },
  {
   "cell_type": "code",
   "execution_count": null,
   "metadata": {},
   "outputs": [],
   "source": [
    "# the first 600 epochs\n",
    "plot_accuracy(history1)\n",
    "plot_loss(history1)\n",
    "# the next 500 epochs\n",
    "plot_accuracy(history2)\n",
    "plot_loss(history2)"
   ]
  },
  {
   "cell_type": "markdown",
   "metadata": {},
   "source": [
    "### Save/Load Model"
   ]
  },
  {
   "cell_type": "code",
   "execution_count": null,
   "metadata": {},
   "outputs": [],
   "source": [
    "with open('jhmdb_le.pkl', 'wb') as f:\n",
    "    pickle.dump(le, f)\n",
    "le.classes_.tolist()"
   ]
  },
  {
   "cell_type": "code",
   "execution_count": null,
   "metadata": {},
   "outputs": [],
   "source": [
    "model_path = 'jhmdb_openpose_model_refit.h5'\n",
    "ddnet.save_DDNet(refit_net, model_path)"
   ]
  },
  {
   "cell_type": "code",
   "execution_count": null,
   "metadata": {},
   "outputs": [],
   "source": [
    "# Load the model back from disk\n",
    "new_net = ddnet.load_DDNet(model_path)\n",
    "# Evaluate against test set, you should get the same accuracy\n",
    "new_net.evaluate([X_test_0,X_test_1],Y_test)"
   ]
  }
 ],
 "metadata": {
  "kernelspec": {
   "display_name": "Python 3",
   "language": "python",
   "name": "python3"
  },
  "language_info": {
   "codemirror_mode": {
    "name": "ipython",
    "version": 3
   },
   "file_extension": ".py",
   "mimetype": "text/x-python",
   "name": "python",
   "nbconvert_exporter": "python",
   "pygments_lexer": "ipython3",
   "version": "3.6.8"
  }
 },
 "nbformat": 4,
 "nbformat_minor": 2
}
