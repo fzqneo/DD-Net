{
 "cells": [
  {
   "cell_type": "code",
   "execution_count": 1,
   "metadata": {},
   "outputs": [
    {
     "name": "stderr",
     "output_type": "stream",
     "text": [
      "Using TensorFlow backend.\n"
     ]
    }
   ],
   "source": [
    "import matplotlib.pyplot as plt\n",
    "import numpy as np\n",
    "import os\n",
    "import pickle\n",
    "import random\n",
    "import sys\n",
    "from tqdm import tqdm\n",
    "\n",
    "import tensorflow as tf\n",
    "\n",
    "# <project_root>/ddnet/ddnet.py\n",
    "sys.path.insert(0, os.path.join(os.path.abspath(''), '..', 'ddnet'))\n",
    "import ddnet"
   ]
  },
  {
   "cell_type": "markdown",
   "metadata": {},
   "source": [
    "# Initialize the setting"
   ]
  },
  {
   "cell_type": "code",
   "execution_count": 2,
   "metadata": {},
   "outputs": [],
   "source": [
    "# os.environ[\"CUDA_DEVICE_ORDER\"]=\"PCI_BUS_ID\"   \n",
    "# os.environ[\"CUDA_VISIBLE_DEVICES\"]=\"0\""
   ]
  },
  {
   "cell_type": "code",
   "execution_count": 3,
   "metadata": {},
   "outputs": [],
   "source": [
    "random.seed(123)\n",
    "\n",
    "# directory that contains pickle files\n",
    "data_dir = os.path.join(os.path.abspath(''), '..', 'data', 'JHMDB_openpose')"
   ]
  },
  {
   "cell_type": "markdown",
   "metadata": {},
   "source": [
    "# Helper functions"
   ]
  },
  {
   "cell_type": "code",
   "execution_count": 4,
   "metadata": {},
   "outputs": [],
   "source": [
    "def data_generator(T, C, le):\n",
    "    \"\"\"\n",
    "    Generate X (list of arrays) and Y (array) from a dict \n",
    "    \"\"\"\n",
    "    X = T['pose'] # list of arrays\n",
    "    Y = np.zeros(shape=(len(T['label']), C.clc_num)) # 2D array one-hot encoding of labels\n",
    "    Y[range(Y.shape[0]), le.transform(T['label'])] = 1\n",
    "    return X, Y"
   ]
  },
  {
   "cell_type": "code",
   "execution_count": 5,
   "metadata": {},
   "outputs": [],
   "source": [
    "# helper functions for plotting\n",
    "# history is a history object from keras\n",
    "def plot_accuracy(history):\n",
    "    # Plot training & validation accuracy values\n",
    "    plt.plot(history.history['accuracy'])\n",
    "    plt.plot(history.history['val_accuracy'])\n",
    "    plt.title('Model accuracy')\n",
    "    plt.ylabel('Accuracy')\n",
    "    plt.xlabel('Epoch')\n",
    "    plt.legend(['Train', 'Test'], loc='upper left')\n",
    "    plt.show()\n",
    "    \n",
    "def plot_loss(history):\n",
    "    # Plot training & validation loss values\n",
    "    plt.plot(history.history['loss'])\n",
    "    plt.plot(history.history['val_loss'])\n",
    "    plt.title('Model Loss')\n",
    "    plt.ylabel('Loss')\n",
    "    plt.xlabel('Epoch')\n",
    "    plt.legend(['Train', 'Test'], loc='upper left')\n",
    "    plt.show()  "
   ]
  },
  {
   "cell_type": "markdown",
   "metadata": {},
   "source": [
    "## Load and Preprocess Data"
   ]
  },
  {
   "cell_type": "code",
   "execution_count": 6,
   "metadata": {},
   "outputs": [
    {
     "data": {
      "text/plain": [
       "LabelEncoder()"
      ]
     },
     "execution_count": 6,
     "metadata": {},
     "output_type": "execute_result"
    }
   ],
   "source": [
    "Train = pickle.load(open(os.path.join(data_dir, \"GT_train_1.pkl\"), \"rb\"))\n",
    "Test = pickle.load(open(os.path.join(data_dir, \"GT_test_1.pkl\"), \"rb\"))\n",
    "\n",
    "from sklearn import preprocessing\n",
    "le = preprocessing.LabelEncoder()\n",
    "le.fit(Train['label'])"
   ]
  },
  {
   "cell_type": "code",
   "execution_count": 7,
   "metadata": {},
   "outputs": [
    {
     "name": "stdout",
     "output_type": "stream",
     "text": [
      "272 (27, 25, 2) (272, 21)\n",
      "98 (29, 25, 2) (98, 21)\n"
     ]
    }
   ],
   "source": [
    "C = ddnet.DDNetConfig(frame_length=32, num_joints=25, joint_dim=2, num_classes=21, num_filters=32)\n",
    "\n",
    "X, Y = data_generator(Train,C,le)\n",
    "X_test,Y_test = data_generator(Test,C,le)\n",
    "\n",
    "print(len(X), X[0].shape, Y.shape)\n",
    "print(len(X_test), X_test[0].shape, Y_test.shape)"
   ]
  },
  {
   "cell_type": "markdown",
   "metadata": {},
   "source": [
    "### Convert Invisible Joints with `nan`"
   ]
  },
  {
   "cell_type": "code",
   "execution_count": 8,
   "metadata": {
    "scrolled": false
   },
   "outputs": [
    {
     "name": "stdout",
     "output_type": "stream",
     "text": [
      "Video without any nan: 3 out of 272\n",
      "nan entries in X_nan: 127278 out of 466500\n"
     ]
    }
   ],
   "source": [
    "def make_nan(p, copy=True):\n",
    "    \"\"\"\n",
    "    Convert 0 values to np.nan\n",
    "    \"\"\"\n",
    "    assert isinstance(p, np.ndarray)\n",
    "    q = p.copy() if copy else p\n",
    "    q[q == 0] = np.nan\n",
    "    return q\n",
    "\n",
    "def has_nan(p):\n",
    "    assert isinstance(p, np.ndarray)\n",
    "    return np.isnan(p).any()\n",
    "\n",
    "def count_nan(p):\n",
    "    assert isinstance(p, np.ndarray)\n",
    "    return np.isnan(p).sum()\n",
    "\n",
    "X_nan = list(map(make_nan, X))\n",
    "X_test_nan = list(map(make_nan, X_test))\n",
    "\n",
    "print(\"Video without any nan: {} out of {}\".format(len([p for p in X_nan if not has_nan(p)]), len(X_nan)))\n",
    "print(\"nan entries in X_nan: {} out of {}\".format(sum(map(count_nan, X_nan)), sum([p.size for p in X_nan])))"
   ]
  },
  {
   "cell_type": "markdown",
   "metadata": {},
   "source": [
    "### Preprocessing\n",
    "* Select a subset of frequently-detected joints\n",
    "* Temporal interpolate\n",
    "* Fill the others with mean"
   ]
  },
  {
   "cell_type": "code",
   "execution_count": 9,
   "metadata": {},
   "outputs": [
    {
     "name": "stdout",
     "output_type": "stream",
     "text": [
      "[ 4256     8    22  1054  2500    14  1118  3624  1404  1580  6584  9064\n",
      "  1594  6882  9100  5104  6000  3010  4628 10008 10680  9548  9810 10220\n",
      "  9466]\n",
      "Good joint indices: [0, 1, 2, 3, 4, 5, 6, 7, 8, 9, 12, 15, 16, 17, 18]\n",
      "Video with nan before/after selecting top joints: 269 / 250\n",
      "nan entries in before/after selecting top joints: 127278 / 35916\n"
     ]
    }
   ],
   "source": [
    "def find_top_joints(X_nan, top=15):\n",
    "    \"\"\"\n",
    "    Find the indices of the `top` most frequently-detected joints \"\"\"\n",
    "    count_nan_per_joint = np.array([sum([count_nan(p[:, j, :]) for p in X_nan]) for j in range(X_nan[0].shape[1])])\n",
    "    print(count_nan_per_joint)\n",
    "#     print(np.sort(count_nan_per_joint))\n",
    "    good_joint_idx = np.argsort(count_nan_per_joint)[:top]\n",
    "    return good_joint_idx\n",
    "\n",
    "good_joint_idx = find_top_joints(X_nan)\n",
    "print(\"Good joint indices:\", sorted(good_joint_idx.tolist()))\n",
    "\n",
    "# previous result:\n",
    "# GOOD_JOINT_IDX = [0, 1, 2, 3, 4, 5, 6, 7, 8, 9, 12, 17] # top 12\n",
    "# [0, 1, 2, 3, 4, 5, 6, 7, 8, 9, 12, 15, 16, 17, 18]  # top 15\n",
    "\n",
    "def filter_joints(p, good_joint_idx):\n",
    "    \"\"\"\n",
    "    Filter a point by only keeping joints in good_joint_idx\n",
    "    \"\"\"\n",
    "    return p[:, good_joint_idx, :]\n",
    "\n",
    "X_topj = [filter_joints(p, good_joint_idx) for p in X_nan]\n",
    "X_test_topj = [filter_joints(p, good_joint_idx) for p in X_test_nan]\n",
    "\n",
    "print(\"Video with nan before/after selecting top joints: {} / {}\".format(\n",
    "    sum(map(has_nan, X_nan)),\n",
    "    sum(map(has_nan, X_topj))\n",
    "))\n",
    "\n",
    "print(\"nan entries in before/after selecting top joints: {} / {}\".format(\n",
    "    sum(map(count_nan, X_nan)),\n",
    "    sum(map(count_nan, X_topj))\n",
    "))"
   ]
  },
  {
   "cell_type": "code",
   "execution_count": 10,
   "metadata": {},
   "outputs": [
    {
     "name": "stdout",
     "output_type": "stream",
     "text": [
      "Video with nan before/after temporal interp: 250 / 127\n",
      "nan entries in before/after temporal interp: 35916 / 15588\n"
     ]
    }
   ],
   "source": [
    "def nan_helper(y):\n",
    "    \"\"\"Helper function to handle real indices and logical indices of NaNs.\n",
    "\n",
    "    Input:\n",
    "        - y, 1d numpy array with possible NaNs\n",
    "    Output:\n",
    "        - nans, logical indices of NaNs\n",
    "        - index, a function, with signature indices= index(logical_indices),\n",
    "          to convert logical indices of NaNs to 'equivalent' indices\n",
    "    Example:\n",
    "        >>> # linear interpolation of NaNs\n",
    "        >>> nans, x= nan_helper(y)\n",
    "        >>> y[nans]= np.interp(x(nans), x(~nans), y[~nans])\n",
    "    \"\"\"\n",
    "\n",
    "    return np.isnan(y), lambda z: z.nonzero()[0]\n",
    "\n",
    "def temporal_interp(p):\n",
    "    \"\"\"\n",
    "    If a joint is detected in at least one frame in a video, \n",
    "    we interpolate the nan coordinates from other frames.\n",
    "    This is done independently for each joint.\n",
    "    Note: it can still leave some all-nan columns if a joint is never detected in any frame.\n",
    "    \"\"\"\n",
    "    p = p.copy()\n",
    "    for j in range(p.shape[1]): # joint\n",
    "        for coord in range(p.shape[2]): # x, y (,z)\n",
    "            view = p[:, j, coord]\n",
    "            if np.isnan(view).all() or  not np.isnan(view).any():\n",
    "                continue\n",
    "            nans, idx = nan_helper(view)\n",
    "            view[nans]= np.interp(idx(nans), idx(~nans), view[~nans])\n",
    "    return p\n",
    "\n",
    "X_interp = list(map(temporal_interp, X_topj))\n",
    "X_test_interp = list(map(temporal_interp, X_test_topj))\n",
    "\n",
    "\n",
    "print(\"Video with nan before/after temporal interp: {} / {}\".format(\n",
    "    sum(map(has_nan, X_topj)),\n",
    "    sum(map(has_nan, X_interp))\n",
    "))\n",
    "\n",
    "print(\"nan entries in before/after temporal interp: {} / {}\".format(\n",
    "    sum(map(count_nan, X_topj)),\n",
    "    sum(map(count_nan, X_interp))\n",
    "))"
   ]
  },
  {
   "cell_type": "code",
   "execution_count": 11,
   "metadata": {},
   "outputs": [],
   "source": [
    "def per_frame_fill_mean(p, copy=True):\n",
    "    \"\"\"\n",
    "    For each frame independently:\n",
    "        for x, y[, z] independently:\n",
    "            Fill nan entries with the mean of all other joints' coordinates\n",
    "    This is defnitely not perfect, but may help.\n",
    "    \"\"\"\n",
    "    q = p.copy() if copy else p\n",
    "    for f in range(q.shape[0]):\n",
    "        for coord in range(q.shape[2]): # x,y\n",
    "            view = q[f, :, coord]\n",
    "            view[np.isnan(view)] = np.nanmean(view)\n",
    "    \n",
    "    return q\n",
    "    \n",
    "X_fillmean = [per_frame_fill_mean(p) for p in X_interp]\n",
    "X_test_fillmean = [per_frame_fill_mean(p) for p in X_test_interp]\n",
    "    \n",
    "assert sum(map(count_nan, X_fillmean)) == 0, sum(map(count_nan, X_fillmean))\n",
    "assert sum(map(count_nan, X_test_fillmean)) == 0, sum(map(count_nan, X_test_fillmean))"
   ]
  },
  {
   "cell_type": "code",
   "execution_count": 12,
   "metadata": {},
   "outputs": [],
   "source": [
    "X_input = X_fillmean\n",
    "X_test_input = X_test_fillmean"
   ]
  },
  {
   "cell_type": "markdown",
   "metadata": {},
   "source": [
    "### DDNet's preprocess and config"
   ]
  },
  {
   "cell_type": "code",
   "execution_count": 13,
   "metadata": {},
   "outputs": [],
   "source": [
    "# redefine config with new # of joints\n",
    "C = ddnet.DDNetConfig(frame_length=32, num_joints=len(good_joint_idx), joint_dim=2, num_classes=21, num_filters=32)\n",
    "\n",
    "X_0, X_1 = ddnet.preprocess_batch(X_input, C)\n",
    "X_test_0, X_test_1 = ddnet.preprocess_batch(X_test_input, C)"
   ]
  },
  {
   "cell_type": "markdown",
   "metadata": {},
   "source": [
    "# Building the model"
   ]
  },
  {
   "cell_type": "code",
   "execution_count": 18,
   "metadata": {},
   "outputs": [
    {
     "name": "stdout",
     "output_type": "stream",
     "text": [
      "Model: \"model_4\"\n",
      "__________________________________________________________________________________________________\n",
      "Layer (type)                    Output Shape         Param #     Connected to                     \n",
      "==================================================================================================\n",
      "M (InputLayer)                  (None, 32, 105)      0                                            \n",
      "__________________________________________________________________________________________________\n",
      "P (InputLayer)                  (None, 32, 15, 2)    0                                            \n",
      "__________________________________________________________________________________________________\n",
      "model_3 (Model)                 (None, 4, 256)       436544      M[0][0]                          \n",
      "                                                                 P[0][0]                          \n",
      "__________________________________________________________________________________________________\n",
      "global_max_pooling1d_2 (GlobalM (None, 256)          0           model_3[1][0]                    \n",
      "__________________________________________________________________________________________________\n",
      "dense_4 (Dense)                 (None, 128)          32768       global_max_pooling1d_2[0][0]     \n",
      "__________________________________________________________________________________________________\n",
      "batch_normalization_33 (BatchNo (None, 128)          512         dense_4[0][0]                    \n",
      "__________________________________________________________________________________________________\n",
      "leaky_re_lu_33 (LeakyReLU)      (None, 128)          0           batch_normalization_33[0][0]     \n",
      "__________________________________________________________________________________________________\n",
      "dropout_3 (Dropout)             (None, 128)          0           leaky_re_lu_33[0][0]             \n",
      "__________________________________________________________________________________________________\n",
      "dense_5 (Dense)                 (None, 128)          16384       dropout_3[0][0]                  \n",
      "__________________________________________________________________________________________________\n",
      "batch_normalization_34 (BatchNo (None, 128)          512         dense_5[0][0]                    \n",
      "__________________________________________________________________________________________________\n",
      "leaky_re_lu_34 (LeakyReLU)      (None, 128)          0           batch_normalization_34[0][0]     \n",
      "__________________________________________________________________________________________________\n",
      "dropout_4 (Dropout)             (None, 128)          0           leaky_re_lu_34[0][0]             \n",
      "__________________________________________________________________________________________________\n",
      "dense_6 (Dense)                 (None, 21)           2709        dropout_4[0][0]                  \n",
      "==================================================================================================\n",
      "Total params: 489,429\n",
      "Trainable params: 486,357\n",
      "Non-trainable params: 3,072\n",
      "__________________________________________________________________________________________________\n"
     ]
    }
   ],
   "source": [
    "DD_Net = ddnet.create_DDNet(C)\n",
    "DD_Net.summary()"
   ]
  },
  {
   "cell_type": "markdown",
   "metadata": {},
   "source": [
    "# Train, Test and Save/Load the Model"
   ]
  },
  {
   "cell_type": "markdown",
   "metadata": {},
   "source": [
    "### Train and plot loss/accuracy"
   ]
  },
  {
   "cell_type": "code",
   "execution_count": null,
   "metadata": {
    "scrolled": true
   },
   "outputs": [],
   "source": [
    "import keras\n",
    "from keras.optimizers import *\n",
    "\n",
    "lr = 1e-3\n",
    "DD_Net.compile(loss=\"categorical_crossentropy\",optimizer=adam(lr),metrics=['accuracy'])\n",
    "lrScheduler = keras.callbacks.ReduceLROnPlateau(monitor='loss', factor=0.5, patience=5, cooldown=5, min_lr=1e-5)\n",
    "\n",
    "history1 = DD_Net.fit([X_0,X_1],Y,\n",
    "                    batch_size=len(Y),\n",
    "                    epochs=500,\n",
    "                    verbose=True,\n",
    "                    shuffle=True,\n",
    "                    callbacks=[lrScheduler],\n",
    "                    validation_data=([X_test_0,X_test_1],Y_test)      \n",
    "                    )\n",
    "\n",
    "lr = 1e-4\n",
    "DD_Net.compile(loss=\"categorical_crossentropy\",optimizer=adam(lr),metrics=['accuracy'])\n",
    "lrScheduler = keras.callbacks.ReduceLROnPlateau(monitor='loss', factor=0.5, patience=5, cooldown=5, min_lr=5e-6)\n",
    "history2 = DD_Net.fit([X_0,X_1],Y,\n",
    "                    batch_size=len(Y),\n",
    "                    epochs=200,\n",
    "                    verbose=True,\n",
    "                    shuffle=True,\n",
    "                    callbacks=[lrScheduler],\n",
    "                    validation_data=([X_test_0,X_test_1],Y_test)      \n",
    "                    )\n"
   ]
  },
  {
   "cell_type": "code",
   "execution_count": 20,
   "metadata": {},
   "outputs": [
    {
     "data": {
      "image/png": "[encoded data removed]",
      "text/plain": [
       "<Figure size 432x288 with 1 Axes>"
      ]
     },
     "metadata": {
      "needs_background": "light"
     },
     "output_type": "display_data"
    },
    {
     "data": {
      "image/png": "[encoded data removed]",
      "text/plain": [
       "<Figure size 432x288 with 1 Axes>"
      ]
     },
     "metadata": {
      "needs_background": "light"
     },
     "output_type": "display_data"
    },
    {
     "data": {
      "image/png": "[encoded data removed]",
      "text/plain": [
       "<Figure size 432x288 with 1 Axes>"
      ]
     },
     "metadata": {
      "needs_background": "light"
     },
     "output_type": "display_data"
    },
    {
     "data": {
      "image/png": "[encoded data removed]",
      "text/plain": [
       "<Figure size 432x288 with 1 Axes>"
      ]
     },
     "metadata": {
      "needs_background": "light"
     },
     "output_type": "display_data"
    }
   ],
   "source": [
    "%matplotlib inline\n",
    "# the first 600 epochs\n",
    "plot_accuracy(history1)\n",
    "plot_loss(history1)\n",
    "# the next 500 epochs\n",
    "plot_accuracy(history2)\n",
    "plot_loss(history2)"
   ]
  },
  {
   "cell_type": "markdown",
   "metadata": {},
   "source": [
    "### Plot confusion matrix"
   ]
  },
  {
   "cell_type": "code",
   "execution_count": null,
   "metadata": {},
   "outputs": [],
   "source": [
    "Y_test_pred = DD_Net.predict([X_test_0, X_test_1])"
   ]
  },
  {
   "cell_type": "code",
   "execution_count": null,
   "metadata": {},
   "outputs": [],
   "source": [
    "Y_test_pred_cls = np.argmax(Y_test_pred, axis=1)\n",
    "Y_test_cls = np.argmax(Y_test, axis=1)\n",
    "Y_test_cls[:10], Y_test_pred_cls[:10]\n",
    "\n",
    "from sklearn.metrics import confusion_matrix, ConfusionMatrixDisplay\n",
    "normalize= None # 'true'\n",
    "cm = confusion_matrix(Y_test_cls, Y_test_pred_cls, normalize=normalize)\n",
    "# print(cm)\n",
    "\n",
    "disp = ConfusionMatrixDisplay(\n",
    "    confusion_matrix=cm,\n",
    "    display_labels=le.classes_)\n",
    "\n",
    "fig, ax = plt.subplots(figsize=(10,10))\n",
    "disp.plot(xticks_rotation=90, ax=ax)"
   ]
  },
  {
   "cell_type": "markdown",
   "metadata": {},
   "source": [
    "### Save/Load Model"
   ]
  },
  {
   "cell_type": "code",
   "execution_count": null,
   "metadata": {},
   "outputs": [],
   "source": [
    "model_path = 'jhmdb_lite_model.h5'\n",
    "ddnet.save_DDNet(DD_Net, model_path)"
   ]
  },
  {
   "cell_type": "code",
   "execution_count": null,
   "metadata": {},
   "outputs": [],
   "source": [
    "# Load the model back from disk\n",
    "new_net = ddnet.load_DDNet(model_path)\n",
    "# Evaluate against test set, you should get the same accuracy\n",
    "new_net.evaluate([X_test_0,X_test_1],Y_test)"
   ]
  },
  {
   "cell_type": "code",
   "execution_count": null,
   "metadata": {},
   "outputs": [],
   "source": [
    "from keras import backend as K\n",
    "K.tensorflow_backend._get_available_gpus()"
   ]
  },
  {
   "cell_type": "code",
   "execution_count": null,
   "metadata": {},
   "outputs": [],
   "source": [
    "sess = tf.Session(config=tf.ConfigProto(log_device_placement=True))"
   ]
  },
  {
   "cell_type": "code",
   "execution_count": null,
   "metadata": {},
   "outputs": [],
   "source": [
    "from tensorflow.python.client import device_lib\n",
    "print(device_lib.list_local_devices())"
   ]
  },
  {
   "cell_type": "code",
   "execution_count": null,
   "metadata": {},
   "outputs": [],
   "source": [
    "##########################\n",
    "## Imputation\n",
    "##########################\n",
    "\n",
    "from sklearn.preprocessing import MinMaxScaler\n",
    "def per_frame_normalized(p):\n",
    "    # mean and std is calculated within a frame, across all joints\n",
    "    # separately for x,y\n",
    "    mean = np.nanmean(p, axis=(1,))\n",
    "    std = np.nanstd(p, axis=(1,))\n",
    "    return (p - np.expand_dims(mean, 1)) / np.expand_dims(std, 1)\n",
    "\n",
    "def per_video_normalize(p):\n",
    "    # noramlize x and y separate\n",
    "    mean = np.nanmean(p, axis=(0,1))\n",
    "    std = np.nanstd(p, axis=(0,1))\n",
    "    return (p - mean) / std\n",
    "    \n",
    "# all_frames_normalized = np.concatenate(list(map(per_frame_normalized, X_interp)))\n",
    "# print(all_frames_normalized.shape)\n",
    "# print(all_frames_normalized[0])\n",
    "# print(count_nan(all_frames_normalized))\n",
    "\n",
    "from sklearn.experimental import enable_iterative_imputer\n",
    "from sklearn.impute import IterativeImputer, SimpleImputer\n",
    "imp = IterativeImputer(max_iter=10, random_state=0, initial_strategy='mean', verbose=1)\n",
    "# imp = SimpleImputer(missing_values=np.nan, strategy='mean')\n",
    "all_frames_normalized_flat_imputed = imp.fit_transform(all_frames_normalized.reshape((all_frames_normalized.shape[0], -1)))\n",
    "print(all_frames_normalized_flat_imputed[0])\n",
    "\n",
    "def impute(p, imp):\n",
    "    # per-frame normalize\n",
    "    mean = np.nanmean(p, axis=(1,))\n",
    "    std = np.nanstd(p, axis=(1,))\n",
    "    p_normalized = (p - np.expand_dims(mean, 1)) / np.expand_dims(std, 1)\n",
    "    \n",
    "    # impute\n",
    "    q = p_normalized.reshape((p_normalized.shape[0], -1))\n",
    "    q = imp.transform(q)\n",
    "    q = q.reshape(p.shape)\n",
    "    print(q.shape)\n",
    "    # per-frame de-normalize\n",
    "    return (q *  np.expand_dims(std, 1) ) + np.expand_dims(mean, 1)\n",
    "\n",
    "\n",
    "# def per_frame_impute(p, imp):\n",
    "#     q = np.empty_like(p)\n",
    "#     for i, frame in enumerate(p):\n",
    "#         scaler = MinMaxScaler()\n",
    "#         frame_scaled = scaler.fit_transform(frame)\n",
    "#         f_flat = frame_scaled.reshape((1, -1))\n",
    "#         f_flat_imputed = imp.transform(f_flat)\n",
    "#         f_imputed = f_flat_imputed.reshape(frame.shape)\n",
    "#         frame_imputed = scaler.inverse_transform(f_imputed)\n",
    "#         q[i] =  frame_imputed\n",
    "#     return q\n",
    "print(impute(X_interp[0], imp)[0])\n",
    "\n",
    "X_imputed = [per_video_normalize(impute(p, imp)) for p in X_interp]\n",
    "X_test_imputed = [per_video_normalize(impute(p, imp)) for p in X_test_interp]"
   ]
  }
 ],
 "metadata": {
  "kernelspec": {
   "display_name": "Python 3",
   "language": "python",
   "name": "python3"
  },
  "language_info": {
   "codemirror_mode": {
    "name": "ipython",
    "version": 3
   },
   "file_extension": ".py",
   "mimetype": "text/x-python",
   "name": "python",
   "nbconvert_exporter": "python",
   "pygments_lexer": "ipython3",
   "version": "3.6.8"
  }
 },
 "nbformat": 4,
 "nbformat_minor": 2
}
